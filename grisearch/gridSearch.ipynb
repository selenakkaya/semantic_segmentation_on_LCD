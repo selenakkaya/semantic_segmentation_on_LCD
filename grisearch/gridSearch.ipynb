{
 "cells": [
  {
   "cell_type": "code",
   "execution_count": 2,
   "id": "408c4e14-31c5-46f9-97a8-36604ae6368f",
   "metadata": {},
   "outputs": [],
   "source": [
    "import numpy as np\n",
    "import tensorflow as tf\n",
    "from keras.models import Model\n",
    "from keras.layers import Conv2D, MaxPooling2D, Input, Conv2DTranspose, Concatenate\n",
    "from keras.callbacks import ModelCheckpoint, EarlyStopping\n",
    "from keras import backend as K\n",
    "import cv2\n",
    "import os"
   ]
  },
  {
   "cell_type": "code",
   "execution_count": 3,
   "id": "9a6cf04c-a2f6-42ef-abe1-58f71fb67b74",
   "metadata": {},
   "outputs": [],
   "source": [
    "EPOCHS = 150\n",
    "PATIENCE = 50\n",
    "BATCH_SIZE = 16\n",
    "OPTIMIZER = 'adam'\n",
    "DIM = 512\n",
    "MODEL_NAME = \"best_gridsearch_unet_mesh.h5\"\n",
    "CATEGORY = \"mesh\"\n",
    "\n",
    "tf.random.set_seed(1)\n",
    "\n",
    "src_arr = \"saved_arrays/\" + CATEGORY # local pc\n"
   ]
  },
  {
   "cell_type": "code",
   "execution_count": 4,
   "id": "28a7517a-c7f3-4d72-b295-84e47e15b0c0",
   "metadata": {},
   "outputs": [
    {
     "name": "stdout",
     "output_type": "stream",
     "text": [
      "(854, 512, 512, 3)\n",
      "(163, 512, 512, 1)\n"
     ]
    }
   ],
   "source": [
    "\n",
    "#Load train, validation and test data. The images are augmented in train and validation. For each image was created a random modified new image.\n",
    "#Images are normalized in [0,1].\n",
    "train_images = np.load(src_arr + \"/\" + CATEGORY + \"_train_images.npy\")[:840]\n",
    "train_images = train_images/255.0\n",
    "\n",
    "train_masks = np.load(src_arr + \"/\" + CATEGORY + \"_train_masks.npy\")[:840]\n",
    "train_masks = np.expand_dims(train_masks, axis=-1)\n",
    "\n",
    "val_images = np.load(src_arr + \"/\" + CATEGORY + \"_val_images.npy\")[159\n",
    "val_images = val_images/255.0\n",
    "\n",
    "val_masks = np.load(src_arr + \"/\" + CATEGORY + \"_val_masks.npy\")\n",
    "val_masks = np.expand_dims(val_masks, axis=-1)\n",
    "\n",
    "test_images = np.load(src_arr + \"/\" + CATEGORY + \"_test_images.npy\")\n",
    "test_images = test_images/255.0\n",
    "\n",
    "test_masks = np.load(src_arr + \"/\" + CATEGORY + \"_test_masks.npy\")\n",
    "test_masks = np.expand_dims(test_masks, axis=-1)\n",
    "\n",
    "print(train_images.shape)\n",
    "print(val_masks.shape)"
   ]
  },
  {
   "cell_type": "code",
   "execution_count": 5,
   "id": "2ce59831-5281-44ad-95a6-c02ad5c3f5ca",
   "metadata": {},
   "outputs": [],
   "source": [
    "#during training\n",
    "def mean_iou(y_true, y_pred):\n",
    "    yt0 = y_true[:,:,:,0]\n",
    "    yp0 = K.cast(y_pred[:,:,:,0] > 0.5, 'float32')\n",
    "    inter = tf.math.count_nonzero(tf.logical_and(tf.equal(yt0, 1), tf.equal(yp0, 1)))\n",
    "    union = tf.math.count_nonzero(tf.add(yt0, yp0))\n",
    "    iou = tf.where(tf.equal(union, 0), 1., tf.cast(inter/union, 'float32'))\n",
    "    return iou"
   ]
  },
  {
   "cell_type": "code",
   "execution_count": 6,
   "id": "fe42b918-ba4a-48a2-8223-1a301cbb792e",
   "metadata": {},
   "outputs": [],
   "source": [
    "\n",
    "def unet(optimizer, loss, sz = (DIM, DIM, 3)):\n",
    "    x = Input(sz)\n",
    "    inputs = x\n",
    "  \n",
    "    #down sampling \n",
    "    f = 8\n",
    "    layers = []\n",
    "  \n",
    "    for i in range(0, 6):\n",
    "        x = Conv2D(f, 3, activation='relu', padding='same') (x)\n",
    "        x = Conv2D(f, 3, activation='relu', padding='same') (x)\n",
    "        layers.append(x)\n",
    "        x = MaxPooling2D() (x)\n",
    "        f = f*2\n",
    "    ff2 = 64 \n",
    "  \n",
    "    #bottleneck \n",
    "    j = len(layers) - 1\n",
    "    x = Conv2D(f, 3, activation='relu', padding='same') (x)\n",
    "    x = Conv2D(f, 3, activation='relu', padding='same') (x)\n",
    "    x = Conv2DTranspose(ff2, 2, strides=(2, 2), padding='same') (x)\n",
    "    x = Concatenate(axis=3)([x, layers[j]])\n",
    "    j = j -1 \n",
    "  \n",
    "    #upsampling \n",
    "    for i in range(0, 5):\n",
    "        ff2 = ff2//2\n",
    "        f = f // 2 \n",
    "        x = Conv2D(f, 3, activation='relu', padding='same') (x)\n",
    "        x = Conv2D(f, 3, activation='relu', padding='same') (x)\n",
    "        x = Conv2DTranspose(ff2, 2, strides=(2, 2), padding='same') (x)\n",
    "        x = Concatenate(axis=3)([x, layers[j]])\n",
    "        j = j -1 \n",
    "\n",
    "    #classification \n",
    "    x = Conv2D(f, 3, activation='relu', padding='same') (x)\n",
    "    x = Conv2D(f, 3, activation='relu', padding='same') (x)\n",
    "    outputs = Conv2D(1, 1, activation='sigmoid') (x)\n",
    "  \n",
    "    #model creation \n",
    "    model = Model(inputs=[inputs], outputs=[outputs])\n",
    "    model.compile(optimizer = optimizer, loss = loss, metrics = [mean_iou])\n",
    "    model.summary()\n",
    "\n",
    "    return model\n"
   ]
  },
  {
   "cell_type": "code",
   "execution_count": 7,
   "id": "4df2fa9a-c9d8-490b-9b28-0b4204a9656e",
   "metadata": {},
   "outputs": [],
   "source": [
    "def binary_focal_loss(gamma=2., alpha=.25):\n",
    "   \n",
    "    def binary_focal_loss_fixed(y_true, y_pred):\n",
    "       \n",
    "        pt_1 = tf.where(tf.equal(y_true, 1), y_pred, tf.ones_like(y_pred))\n",
    "        pt_0 = tf.where(tf.equal(y_true, 0), y_pred, tf.zeros_like(y_pred))\n",
    "\n",
    "        epsilon = K.epsilon()\n",
    "        # clip to prevent NaN's and Inf's\n",
    "        pt_1 = K.clip(pt_1, epsilon, 1. - epsilon)\n",
    "        pt_0 = K.clip(pt_0, epsilon, 1. - epsilon)\n",
    "\n",
    "        return -K.mean(alpha * K.pow(1. - pt_1, gamma) * K.log(pt_1)) \\\n",
    "               -K.mean((1 - alpha) * K.pow(pt_0, gamma) * K.log(1. - pt_0))\n",
    "\n",
    "    return binary_focal_loss_fixed"
   ]
  },
  {
   "cell_type": "code",
   "execution_count": 8,
   "id": "fe08fb62-ac33-4f3d-bf28-984b5b9cb366",
   "metadata": {},
   "outputs": [],
   "source": [
    "\n",
    "def plot_img_and_masks(raw, mask):\n",
    "    # image + prediction mask + target mask\n",
    "    pred = model.predict(np.expand_dims(raw, 0))\n",
    "    pred_msk = pred.squeeze()\n",
    "    pred_msk = np.stack((pred_msk,) * 3, axis=-1)\n",
    "    pred_msk[pred_msk >= 0.5] = 1\n",
    "    pred_msk[pred_msk < 0.5] = 0\n",
    "    target_msk = np.stack((mask,) * 3, axis=-1)\n",
    "    raw = np.float32(raw)\n",
    "    raw = cv2.cvtColor(raw, cv2.COLOR_RGB2BGR)\n",
    "    combined = np.concatenate([raw, pred_msk, target_msk], axis=1)\n",
    "    return combined"
   ]
  },
  {
   "cell_type": "code",
   "execution_count": 9,
   "id": "31a75562-8623-466d-ac1a-382377668a4f",
   "metadata": {},
   "outputs": [],
   "source": [
    "def quantitative_measures(pred_masks):\n",
    "    test_masks = np.load(src_arr + \"/\" + CATEGORY + \"_test_masks.npy\")\n",
    "    test_masks = np.expand_dims(test_masks, axis=-1)\n",
    "    print(\"TEST RESULTS\")\n",
    "\n",
    "    iou = mean_iou_test(test_masks, pred_masks)\n",
    "    print(\"mean iou\", iou)\n",
    "    dice = dice_coeff(test_masks, pred_masks)\n",
    "    print(\"dice coeff.\", dice)\n",
    "    acc = pixel_accuracy(test_masks, pred_masks)\n",
    "    print(\"pixel acc.\", acc)\n",
    "    acc_1 = pixel_accuracy_class1(test_masks, pred_masks)\n",
    "    print(\"pixel acc. for \" + CATEGORY + \" only\", acc_1)\n",
    "    \n",
    "    return iou, dice, acc, acc_1\n"
   ]
  },
  {
   "cell_type": "code",
   "execution_count": 10,
   "id": "ab6a5ad6-11c8-472a-ba05-43519175370b",
   "metadata": {},
   "outputs": [],
   "source": [
    "import itertools\n",
    "\n",
    "\n",
    "optimizers = [\"adam\", \"adadelta\", \"sgd\", \"adagrad\", \"rmsprop\"]\n",
    "losses = [binary_focal_loss(gamma=2.0, alpha=0.25), \"binary_crossentropy\"]\n",
    "#strides = [(2,2), (3,3)]\n",
    "#paddings = [\"same\", \"valid\" ]\n",
    "combinations = list(itertools.product(optimizers, losses))\n",
    "\n"
   ]
  },
  {
   "cell_type": "code",
   "execution_count": null,
   "id": "9f0fb122-cc00-40d3-bbe5-fb324bfca744",
   "metadata": {
    "tags": []
   },
   "outputs": [
    {
     "name": "stdout",
     "output_type": "stream",
     "text": [
      "Optimizer: adam Loss function: <function binary_focal_loss.<locals>.binary_focal_loss_fixed at 0x7f2f27721950>\n"
     ]
    },
    {
     "name": "stderr",
     "output_type": "stream",
     "text": [
      "2023-02-01 17:22:08.624379: I tensorflow/stream_executor/cuda/cuda_gpu_executor.cc:937] successful NUMA node read from SysFS had negative value (-1), but there must be at least one NUMA node, so returning NUMA node zero\n",
      "2023-02-01 17:22:08.699244: I tensorflow/stream_executor/cuda/cuda_gpu_executor.cc:937] successful NUMA node read from SysFS had negative value (-1), but there must be at least one NUMA node, so returning NUMA node zero\n",
      "2023-02-01 17:22:08.699536: I tensorflow/stream_executor/cuda/cuda_gpu_executor.cc:937] successful NUMA node read from SysFS had negative value (-1), but there must be at least one NUMA node, so returning NUMA node zero\n",
      "2023-02-01 17:22:08.701172: I tensorflow/core/platform/cpu_feature_guard.cc:142] This TensorFlow binary is optimized with oneAPI Deep Neural Network Library (oneDNN) to use the following CPU instructions in performance-critical operations:  AVX2 AVX512F FMA\n",
      "To enable them in other operations, rebuild TensorFlow with the appropriate compiler flags.\n",
      "2023-02-01 17:22:08.702323: I tensorflow/stream_executor/cuda/cuda_gpu_executor.cc:937] successful NUMA node read from SysFS had negative value (-1), but there must be at least one NUMA node, so returning NUMA node zero\n",
      "2023-02-01 17:22:08.702576: I tensorflow/stream_executor/cuda/cuda_gpu_executor.cc:937] successful NUMA node read from SysFS had negative value (-1), but there must be at least one NUMA node, so returning NUMA node zero\n",
      "2023-02-01 17:22:08.702775: I tensorflow/stream_executor/cuda/cuda_gpu_executor.cc:937] successful NUMA node read from SysFS had negative value (-1), but there must be at least one NUMA node, so returning NUMA node zero\n",
      "2023-02-01 17:22:10.775281: I tensorflow/stream_executor/cuda/cuda_gpu_executor.cc:937] successful NUMA node read from SysFS had negative value (-1), but there must be at least one NUMA node, so returning NUMA node zero\n",
      "2023-02-01 17:22:10.775556: I tensorflow/stream_executor/cuda/cuda_gpu_executor.cc:937] successful NUMA node read from SysFS had negative value (-1), but there must be at least one NUMA node, so returning NUMA node zero\n",
      "2023-02-01 17:22:10.775754: I tensorflow/stream_executor/cuda/cuda_gpu_executor.cc:937] successful NUMA node read from SysFS had negative value (-1), but there must be at least one NUMA node, so returning NUMA node zero\n",
      "2023-02-01 17:22:10.775956: I tensorflow/core/common_runtime/gpu/gpu_device.cc:1510] Created device /job:localhost/replica:0/task:0/device:GPU:0 with 14686 MB memory:  -> device: 0, name: Tesla V100-SXM2-16GB, pci bus id: 0000:00:04.0, compute capability: 7.0\n"
     ]
    },
    {
     "name": "stdout",
     "output_type": "stream",
     "text": [
      "Model: \"model\"\n",
      "__________________________________________________________________________________________________\n",
      "Layer (type)                    Output Shape         Param #     Connected to                     \n",
      "==================================================================================================\n",
      "input_1 (InputLayer)            [(None, 512, 512, 3) 0                                            \n",
      "__________________________________________________________________________________________________\n",
      "conv2d (Conv2D)                 (None, 512, 512, 8)  224         input_1[0][0]                    \n",
      "__________________________________________________________________________________________________\n",
      "conv2d_1 (Conv2D)               (None, 512, 512, 8)  584         conv2d[0][0]                     \n",
      "__________________________________________________________________________________________________\n",
      "max_pooling2d (MaxPooling2D)    (None, 256, 256, 8)  0           conv2d_1[0][0]                   \n",
      "__________________________________________________________________________________________________\n",
      "conv2d_2 (Conv2D)               (None, 256, 256, 16) 1168        max_pooling2d[0][0]              \n",
      "__________________________________________________________________________________________________\n",
      "conv2d_3 (Conv2D)               (None, 256, 256, 16) 2320        conv2d_2[0][0]                   \n",
      "__________________________________________________________________________________________________\n",
      "max_pooling2d_1 (MaxPooling2D)  (None, 128, 128, 16) 0           conv2d_3[0][0]                   \n",
      "__________________________________________________________________________________________________\n",
      "conv2d_4 (Conv2D)               (None, 128, 128, 32) 4640        max_pooling2d_1[0][0]            \n",
      "__________________________________________________________________________________________________\n",
      "conv2d_5 (Conv2D)               (None, 128, 128, 32) 9248        conv2d_4[0][0]                   \n",
      "__________________________________________________________________________________________________\n",
      "max_pooling2d_2 (MaxPooling2D)  (None, 64, 64, 32)   0           conv2d_5[0][0]                   \n",
      "__________________________________________________________________________________________________\n",
      "conv2d_6 (Conv2D)               (None, 64, 64, 64)   18496       max_pooling2d_2[0][0]            \n",
      "__________________________________________________________________________________________________\n",
      "conv2d_7 (Conv2D)               (None, 64, 64, 64)   36928       conv2d_6[0][0]                   \n",
      "__________________________________________________________________________________________________\n",
      "max_pooling2d_3 (MaxPooling2D)  (None, 32, 32, 64)   0           conv2d_7[0][0]                   \n",
      "__________________________________________________________________________________________________\n",
      "conv2d_8 (Conv2D)               (None, 32, 32, 128)  73856       max_pooling2d_3[0][0]            \n",
      "__________________________________________________________________________________________________\n",
      "conv2d_9 (Conv2D)               (None, 32, 32, 128)  147584      conv2d_8[0][0]                   \n",
      "__________________________________________________________________________________________________\n",
      "max_pooling2d_4 (MaxPooling2D)  (None, 16, 16, 128)  0           conv2d_9[0][0]                   \n",
      "__________________________________________________________________________________________________\n",
      "conv2d_10 (Conv2D)              (None, 16, 16, 256)  295168      max_pooling2d_4[0][0]            \n",
      "__________________________________________________________________________________________________\n",
      "conv2d_11 (Conv2D)              (None, 16, 16, 256)  590080      conv2d_10[0][0]                  \n",
      "__________________________________________________________________________________________________\n",
      "max_pooling2d_5 (MaxPooling2D)  (None, 8, 8, 256)    0           conv2d_11[0][0]                  \n",
      "__________________________________________________________________________________________________\n",
      "conv2d_12 (Conv2D)              (None, 8, 8, 512)    1180160     max_pooling2d_5[0][0]            \n",
      "__________________________________________________________________________________________________\n",
      "conv2d_13 (Conv2D)              (None, 8, 8, 512)    2359808     conv2d_12[0][0]                  \n",
      "__________________________________________________________________________________________________\n",
      "conv2d_transpose (Conv2DTranspo (None, 16, 16, 64)   131136      conv2d_13[0][0]                  \n",
      "__________________________________________________________________________________________________\n",
      "concatenate (Concatenate)       (None, 16, 16, 320)  0           conv2d_transpose[0][0]           \n",
      "                                                                 conv2d_11[0][0]                  \n",
      "__________________________________________________________________________________________________\n",
      "conv2d_14 (Conv2D)              (None, 16, 16, 256)  737536      concatenate[0][0]                \n",
      "__________________________________________________________________________________________________\n",
      "conv2d_15 (Conv2D)              (None, 16, 16, 256)  590080      conv2d_14[0][0]                  \n",
      "__________________________________________________________________________________________________\n",
      "conv2d_transpose_1 (Conv2DTrans (None, 32, 32, 32)   32800       conv2d_15[0][0]                  \n",
      "__________________________________________________________________________________________________\n",
      "concatenate_1 (Concatenate)     (None, 32, 32, 160)  0           conv2d_transpose_1[0][0]         \n",
      "                                                                 conv2d_9[0][0]                   \n",
      "__________________________________________________________________________________________________\n",
      "conv2d_16 (Conv2D)              (None, 32, 32, 128)  184448      concatenate_1[0][0]              \n",
      "__________________________________________________________________________________________________\n",
      "conv2d_17 (Conv2D)              (None, 32, 32, 128)  147584      conv2d_16[0][0]                  \n",
      "__________________________________________________________________________________________________\n",
      "conv2d_transpose_2 (Conv2DTrans (None, 64, 64, 16)   8208        conv2d_17[0][0]                  \n",
      "__________________________________________________________________________________________________\n",
      "concatenate_2 (Concatenate)     (None, 64, 64, 80)   0           conv2d_transpose_2[0][0]         \n",
      "                                                                 conv2d_7[0][0]                   \n",
      "__________________________________________________________________________________________________\n",
      "conv2d_18 (Conv2D)              (None, 64, 64, 64)   46144       concatenate_2[0][0]              \n",
      "__________________________________________________________________________________________________\n",
      "conv2d_19 (Conv2D)              (None, 64, 64, 64)   36928       conv2d_18[0][0]                  \n",
      "__________________________________________________________________________________________________\n",
      "conv2d_transpose_3 (Conv2DTrans (None, 128, 128, 8)  2056        conv2d_19[0][0]                  \n",
      "__________________________________________________________________________________________________\n",
      "concatenate_3 (Concatenate)     (None, 128, 128, 40) 0           conv2d_transpose_3[0][0]         \n",
      "                                                                 conv2d_5[0][0]                   \n",
      "__________________________________________________________________________________________________\n",
      "conv2d_20 (Conv2D)              (None, 128, 128, 32) 11552       concatenate_3[0][0]              \n",
      "__________________________________________________________________________________________________\n",
      "conv2d_21 (Conv2D)              (None, 128, 128, 32) 9248        conv2d_20[0][0]                  \n",
      "__________________________________________________________________________________________________\n",
      "conv2d_transpose_4 (Conv2DTrans (None, 256, 256, 4)  516         conv2d_21[0][0]                  \n",
      "__________________________________________________________________________________________________\n",
      "concatenate_4 (Concatenate)     (None, 256, 256, 20) 0           conv2d_transpose_4[0][0]         \n",
      "                                                                 conv2d_3[0][0]                   \n",
      "__________________________________________________________________________________________________\n",
      "conv2d_22 (Conv2D)              (None, 256, 256, 16) 2896        concatenate_4[0][0]              \n",
      "__________________________________________________________________________________________________\n",
      "conv2d_23 (Conv2D)              (None, 256, 256, 16) 2320        conv2d_22[0][0]                  \n",
      "__________________________________________________________________________________________________\n",
      "conv2d_transpose_5 (Conv2DTrans (None, 512, 512, 2)  130         conv2d_23[0][0]                  \n",
      "__________________________________________________________________________________________________\n",
      "concatenate_5 (Concatenate)     (None, 512, 512, 10) 0           conv2d_transpose_5[0][0]         \n",
      "                                                                 conv2d_1[0][0]                   \n",
      "__________________________________________________________________________________________________\n",
      "conv2d_24 (Conv2D)              (None, 512, 512, 16) 1456        concatenate_5[0][0]              \n",
      "__________________________________________________________________________________________________\n",
      "conv2d_25 (Conv2D)              (None, 512, 512, 16) 2320        conv2d_24[0][0]                  \n",
      "__________________________________________________________________________________________________\n",
      "conv2d_26 (Conv2D)              (None, 512, 512, 1)  17          conv2d_25[0][0]                  \n",
      "==================================================================================================\n",
      "Total params: 6,667,639\n",
      "Trainable params: 6,667,639\n",
      "Non-trainable params: 0\n",
      "__________________________________________________________________________________________________\n"
     ]
    },
    {
     "name": "stderr",
     "output_type": "stream",
     "text": [
      "2023-02-01 17:22:12.440878: W tensorflow/core/framework/cpu_allocator_impl.cc:80] Allocation of 2686451712 exceeds 10% of free system memory.\n",
      "2023-02-01 17:22:15.774548: W tensorflow/core/framework/cpu_allocator_impl.cc:80] Allocation of 2686451712 exceeds 10% of free system memory.\n",
      "2023-02-01 17:22:18.008901: I tensorflow/compiler/mlir/mlir_graph_optimization_pass.cc:185] None of the MLIR Optimization Passes are enabled (registered 2)\n"
     ]
    },
    {
     "name": "stdout",
     "output_type": "stream",
     "text": [
      "Epoch 1/150\n"
     ]
    },
    {
     "name": "stderr",
     "output_type": "stream",
     "text": [
      "2023-02-01 17:22:20.038547: E tensorflow/core/grappler/optimizers/meta_optimizer.cc:801] layout failed: Invalid argument: Size of values 0 does not match size of permutation 4 @ fanin shape ingradient_tape/binary_focal_loss_fixed/SelectV2-2-TransposeNHWCToNCHW-LayoutOptimizer\n",
      "2023-02-01 17:22:21.149745: I tensorflow/stream_executor/cuda/cuda_dnn.cc:369] Loaded cuDNN version 8005\n"
     ]
    },
    {
     "name": "stdout",
     "output_type": "stream",
     "text": [
      "54/54 [==============================] - ETA: 0s - loss: 0.0703 - mean_iou: 0.0639"
     ]
    },
    {
     "name": "stderr",
     "output_type": "stream",
     "text": [
      "2023-02-01 17:22:41.903141: W tensorflow/core/framework/cpu_allocator_impl.cc:80] Allocation of 512753664 exceeds 10% of free system memory.\n",
      "2023-02-01 17:22:43.215981: W tensorflow/core/framework/cpu_allocator_impl.cc:80] Allocation of 512753664 exceeds 10% of free system memory.\n"
     ]
    },
    {
     "name": "stdout",
     "output_type": "stream",
     "text": [
      "54/54 [==============================] - 27s 217ms/step - loss: 0.0703 - mean_iou: 0.0639 - val_loss: 0.0710 - val_mean_iou: 0.0000e+00\n",
      "Epoch 2/150\n",
      "54/54 [==============================] - 7s 125ms/step - loss: 0.0657 - mean_iou: 0.2501 - val_loss: 0.0633 - val_mean_iou: 0.2754\n",
      "Epoch 3/150\n",
      "54/54 [==============================] - 7s 124ms/step - loss: 0.0603 - mean_iou: 0.5826 - val_loss: 0.0597 - val_mean_iou: 0.6259\n",
      "Epoch 4/150\n",
      "54/54 [==============================] - 7s 138ms/step - loss: 0.0564 - mean_iou: 0.6119 - val_loss: 0.0549 - val_mean_iou: 0.5064\n",
      "Epoch 5/150\n",
      "54/54 [==============================] - 7s 135ms/step - loss: 0.0541 - mean_iou: 0.5491 - val_loss: 0.0632 - val_mean_iou: 0.6327\n",
      "Epoch 6/150\n",
      "54/54 [==============================] - 7s 125ms/step - loss: 0.0546 - mean_iou: 0.6077 - val_loss: 0.0566 - val_mean_iou: 0.6528\n",
      "Epoch 7/150\n",
      "54/54 [==============================] - 7s 125ms/step - loss: 0.0492 - mean_iou: 0.5962 - val_loss: 0.0534 - val_mean_iou: 0.6254\n",
      "Epoch 8/150\n",
      "54/54 [==============================] - 7s 125ms/step - loss: 0.0480 - mean_iou: 0.6404 - val_loss: 0.0529 - val_mean_iou: 0.4250\n",
      "Epoch 9/150\n",
      "54/54 [==============================] - 7s 125ms/step - loss: 0.0491 - mean_iou: 0.6256 - val_loss: 0.0475 - val_mean_iou: 0.5355\n",
      "Epoch 10/150\n",
      "54/54 [==============================] - 7s 124ms/step - loss: 0.0457 - mean_iou: 0.6561 - val_loss: 0.0511 - val_mean_iou: 0.4063\n",
      "Epoch 11/150\n",
      "54/54 [==============================] - 7s 125ms/step - loss: 0.0466 - mean_iou: 0.6348 - val_loss: 0.0526 - val_mean_iou: 0.7116\n",
      "Epoch 12/150\n",
      "54/54 [==============================] - 7s 125ms/step - loss: 0.0436 - mean_iou: 0.6723 - val_loss: 0.0639 - val_mean_iou: 0.7139\n",
      "Epoch 13/150\n",
      "41/54 [=====================>........] - ETA: 1s - loss: 0.0481 - mean_iou: 0.6529"
     ]
    },
    {
     "name": "stderr",
     "output_type": "stream",
     "text": [
      "2023-02-01 17:24:05.896240: W tensorflow/core/framework/op_kernel.cc:1692] OP_REQUIRES failed at gather_op.cc:158 : Resource exhausted: OOM when allocating tensor with shape[16,512,512,3] and type float on /job:localhost/replica:0/task:0/device:CPU:0 by allocator cpu\n",
      "2023-02-01 17:24:06.211351: W tensorflow/core/framework/op_kernel.cc:1692] OP_REQUIRES failed at gather_op.cc:158 : Resource exhausted: OOM when allocating tensor with shape[16,512,512,3] and type float on /job:localhost/replica:0/task:0/device:CPU:0 by allocator cpu\n"
     ]
    },
    {
     "name": "stdout",
     "output_type": "stream",
     "text": [
      "43/54 [======================>.......] - ETA: 1s - loss: 0.0478 - mean_iou: 0.6579"
     ]
    }
   ],
   "source": [
    "result_list = []\n",
    "for optimizer, loss in combinations:\n",
    "    print(\"Optimizer:\", optimizer, \"Loss function:\", loss)\n",
    "    model = unet(optimizer, loss, sz=(DIM,DIM,3))\n",
    "    history  = model.fit(train_images, train_masks, batch_size=BATCH_SIZE, epochs=EPOCHS, validation_data=(val_images, val_masks))\n",
    "    pred_masks = model.predict(test_images)\n",
    "    iou, dice, acc, acc_1 = quantitative_measures(pred_masks)\n",
    "    result = [optimizer, loss, history.history, iou, dice, acc, acc_1]\n",
    "    result_list.append(result)\n",
    "    \n",
    "   "
   ]
  },
  {
   "cell_type": "code",
   "execution_count": null,
   "id": "d7d4eece-f402-4a09-b9d9-56c98f26ef60",
   "metadata": {},
   "outputs": [],
   "source": [
    "\n",
    "# Write the results to a .txt file\n",
    "with open('combination_results.txt', 'w') as f:\n",
    "    for result in result_list:\n",
    "        f.write(\"Optimizer: \" + result[0] + \", Loss function: \" + str(result[1]) + \", quantitative results :  iou, dice, acc, acc_1 \" + \"\\n\")\n",
    "        for i in range(EPOCHS):\n",
    "            f.write(\"Epoch \" + str(i+1) + \": \" + \"loss: \" + str(result[2]['loss'][i]) + \", val_loss: \" + str(result[2]['val_loss'][i]) \n",
    "                    + \", iou \" + str(result[3]) + \",dice \" + + str(result[4])  + \",acc \" +  str(result[5]) + \",acc_1 \" +  str(result[6]) + \"\\n\"+\"\\n\"+\"\\n\"+\"\\n\")\n",
    "\n"
   ]
  },
  {
   "cell_type": "code",
   "execution_count": null,
   "id": "f01b158c-bb64-40f7-b0d8-28e99fed44c1",
   "metadata": {},
   "outputs": [],
   "source": []
  }
 ],
 "metadata": {
  "environment": {
   "kernel": "python3",
   "name": "tf2-gpu.2-6.m99",
   "type": "gcloud",
   "uri": "gcr.io/deeplearning-platform-release/tf2-gpu.2-6:m99"
  },
  "kernelspec": {
   "display_name": "Python 3",
   "language": "python",
   "name": "python3"
  },
  "language_info": {
   "codemirror_mode": {
    "name": "ipython",
    "version": 3
   },
   "file_extension": ".py",
   "mimetype": "text/x-python",
   "name": "python",
   "nbconvert_exporter": "python",
   "pygments_lexer": "ipython3",
   "version": "3.7.12"
  }
 },
 "nbformat": 4,
 "nbformat_minor": 5
}
